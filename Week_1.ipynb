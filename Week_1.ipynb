{
 "cells": [
  {
   "cell_type": "code",
   "execution_count": 2,
   "id": "c083f478-d544-4d36-aee6-7b5a4dc33ca4",
   "metadata": {},
   "outputs": [
    {
     "name": "stdin",
     "output_type": "stream",
     "text": [
      "Enter a word: disaster\n"
     ]
    },
    {
     "name": "stdout",
     "output_type": "stream",
     "text": [
      "Number of vowels: 3\n"
     ]
    }
   ],
   "source": [
    "# 1. Program to count vowels in a word\n",
    "word = input(\"Enter a word:\")\n",
    "vowels = \"aeiouAEIOU\"\n",
    "count = sum(1 for ch in word if ch in vowels)\n",
    "print(\"Number of vowels:\", count)\n"
   ]
  },
  {
   "cell_type": "code",
   "execution_count": 3,
   "id": "ce49d87f-bfdd-4cb0-ac4f-1b5baf748854",
   "metadata": {},
   "outputs": [
    {
     "name": "stdout",
     "output_type": "stream",
     "text": [
      "TIGER\n",
      "ELEPHANT\n",
      "MONKEY\n",
      "ZEBRA\n",
      "PANTHER\n"
     ]
    }
   ],
   "source": [
    "# 2. Iterate through animals list and print in all caps\n",
    "animals = ['tiger','elephant','monkey','zebra','panther']\n",
    "for animal in animals:\n",
    "    print(animal.upper())"
   ]
  },
  {
   "cell_type": "code",
   "execution_count": 4,
   "id": "d0563073-e45b-4eee-b03e-5245f1c98fbb",
   "metadata": {},
   "outputs": [
    {
     "name": "stdout",
     "output_type": "stream",
     "text": [
      "1 is odd\n",
      "2 is even\n",
      "3 is odd\n",
      "4 is even\n",
      "5 is odd\n",
      "6 is even\n",
      "7 is odd\n",
      "8 is even\n",
      "9 is odd\n",
      "10 is even\n",
      "11 is odd\n",
      "12 is even\n",
      "13 is odd\n",
      "14 is even\n",
      "15 is odd\n",
      "16 is even\n",
      "17 is odd\n",
      "18 is even\n",
      "19 is odd\n",
      "20 is even\n"
     ]
    }
   ],
   "source": [
    "# 3. Print numbers from 1 to 20 and check odd/even\n",
    "for i in range (1, 21):\n",
    "    if i % 2 == 0:\n",
    "        print(i, \"is even\")\n",
    "    else:\n",
    "        print(i, \"is odd\")"
   ]
  },
  {
   "cell_type": "code",
   "execution_count": 8,
   "id": "8b2e049f-0640-435d-9b4c-48bf710fe23a",
   "metadata": {},
   "outputs": [
    {
     "name": "stdin",
     "output_type": "stream",
     "text": [
      "Enter a string:  1 2 3\n"
     ]
    },
    {
     "name": "stdout",
     "output_type": "stream",
     "text": [
      "Not a palindrome\n"
     ]
    }
   ],
   "source": [
    "# 4. Check if string is a palindrome\n",
    "string = input(\"Enter a string: \")\n",
    "if string == string[::-1]:\n",
    "    print(\"Palindrome\")\n",
    "else:\n",
    "    print(\"Not a palindrome\")"
   ]
  },
  {
   "cell_type": "code",
   "execution_count": 23,
   "id": "4cd7f20e-7ee1-4512-b85f-8b3de8d752c8",
   "metadata": {},
   "outputs": [
    {
     "name": "stdout",
     "output_type": "stream",
     "text": [
      "First number: 7\n",
      "Second number: 13\n",
      "Sum: 20\n"
     ]
    }
   ],
   "source": [
    "# 5. Function to sum two integers \n",
    "#def sum_of_integers(a, b):\n",
    "    #return a + b\n",
    "x = 7\n",
    "y = 13\n",
    "result = sum_of_integers(x, y)\n",
    "\n",
    "print(\"First number:\", x)\n",
    "print(\"Second number:\", y)\n",
    "print(\"Sum:\", result)"
   ]
  },
  {
   "cell_type": "code",
   "execution_count": 24,
   "id": "b5be3f16-2330-4d8e-8443-d552b931b78d",
   "metadata": {},
   "outputs": [
    {
     "data": {
      "text/plain": [
       "'C:\\\\Users\\\\USER\\\\Data Science bootcamp 2025'"
      ]
     },
     "execution_count": 24,
     "metadata": {},
     "output_type": "execute_result"
    }
   ],
   "source": [
    "pwd"
   ]
  },
  {
   "cell_type": "code",
   "execution_count": null,
   "id": "19db60da-7a0e-455f-93bf-c7343394139e",
   "metadata": {},
   "outputs": [],
   "source": []
  }
 ],
 "metadata": {
  "kernelspec": {
   "display_name": "Python 3 (ipykernel)",
   "language": "python",
   "name": "python3"
  },
  "language_info": {
   "codemirror_mode": {
    "name": "ipython",
    "version": 3
   },
   "file_extension": ".py",
   "mimetype": "text/x-python",
   "name": "python",
   "nbconvert_exporter": "python",
   "pygments_lexer": "ipython3",
   "version": "3.13.5"
  }
 },
 "nbformat": 4,
 "nbformat_minor": 5
}
